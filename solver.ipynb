{
 "cells": [
  {
   "cell_type": "code",
   "execution_count": null,
   "metadata": {},
   "outputs": [],
   "source": [
    "letters = ['a', 'b']\n"
   ]
  },
  {
   "cell_type": "code",
   "execution_count": 24,
   "metadata": {},
   "outputs": [
    {
     "name": "stdout",
     "output_type": "stream",
     "text": [
      "word: cat\n",
      "word: window\n",
      "word: defenestrate\n"
     ]
    }
   ],
   "source": [
    "words = ['cat', 'window', 'defenestrate']\n",
    "\n",
    "freq  = {}\n",
    "\n",
    "\n",
    "for w in words:\n",
    "    print('word:', w)\n",
    "    for letter in w:\n",
    "        freq[letter] = freq.get(letter, 0) + 1"
   ]
  },
  {
   "cell_type": "code",
   "execution_count": 68,
   "metadata": {},
   "outputs": [
    {
     "data": {
      "text/plain": [
       "list"
      ]
     },
     "execution_count": 68,
     "metadata": {},
     "output_type": "execute_result"
    }
   ],
   "source": [
    "# sort freq\n",
    "\n",
    "#only list has .sort() method\n",
    "\n",
    "sorted_list = sorted(freq.items(), key=lambda x: x[1], reverse=True)\n",
    "\n"
   ]
  },
  {
   "cell_type": "code",
   "execution_count": 69,
   "metadata": {},
   "outputs": [
    {
     "name": "stdout",
     "output_type": "stream",
     "text": [
      "['Brian Jones', 'David Beazley', 'Ned Batchelder', 'Raymond Hettinger']\n"
     ]
    }
   ],
   "source": [
    "names = [['John', 'Doe'], ['Jane', 'Smith'], ['Dave', 'Jones'], ['Tom', 'Brown']]\n",
    "\n",
    "sorted_names = sorted(names, key=lambda name: len(name))\n",
    "\n",
    "print(sorted_names)"
   ]
  },
  {
   "cell_type": "code",
   "execution_count": 1,
   "metadata": {},
   "outputs": [
    {
     "name": "stdout",
     "output_type": "stream",
     "text": [
      "{'John': 'Doe', 'Jane': 'Smith', 'Dave': 'Jones', 'Tom': 'Brown'}\n"
     ]
    }
   ],
   "source": [
    "names_D = {}\n",
    "\n",
    "names_D['John'] = 'Doe'\n",
    "names_D['Jane'] = 'Smith'\n",
    "names_D['Dave'] = 'Jones'\n",
    "names_D['Tom'] = 'Brown'\n",
    "\n",
    "\n",
    "print(names_D)"
   ]
  },
  {
   "cell_type": "code",
   "execution_count": 24,
   "metadata": {},
   "outputs": [
    {
     "data": {
      "text/plain": [
       "{(0, 'S'): 1,\n",
       " (1, 't'): 2,\n",
       " (2, 'r'): 3,\n",
       " (3, 'i'): 2,\n",
       " (4, 'n'): 2,\n",
       " (5, 'g'): 2,\n",
       " (6, 'i'): 2,\n",
       " (7, 'n'): 2,\n",
       " (8, 'g'): 2,\n",
       " (0, 'a'): 2,\n",
       " (1, 'l'): 1,\n",
       " (2, 'o'): 1,\n",
       " (3, 'n'): 1,\n",
       " (4, 'g'): 1,\n",
       " (0, 't'): 1,\n",
       " (1, 'h'): 1,\n",
       " (2, 'e'): 1,\n",
       " (0, 'w'): 1,\n",
       " (1, 'o'): 1,\n",
       " (3, 'd'): 1,\n",
       " (4, 's'): 1,\n",
       " (0, 'i'): 1,\n",
       " (1, 'n'): 1,\n",
       " (0, 'l'): 1,\n",
       " (1, 'i'): 1,\n",
       " (2, 's'): 1,\n",
       " (3, 't'): 1,\n",
       " (0, 'B'): 1}"
      ]
     },
     "execution_count": 24,
     "metadata": {},
     "output_type": "execute_result"
    }
   ],
   "source": [
    "words = [\"Stringing\", \"along\", \"the\", \"words\", \"in\", \"a\", \"list\", \"Btringing\"]\n",
    "\n",
    "freq = {}\n",
    "\n",
    "for word in words:\n",
    "    word = word.lower()\n",
    "    for tuple in enumerate(word):\n",
    "        freq[tuple] = freq.get(tuple, 0) + 1\n",
    "    \n",
    "\n",
    "freq"
   ]
  },
  {
   "cell_type": "code",
   "execution_count": null,
   "metadata": {},
   "outputs": [],
   "source": [
    "freq = {}\n",
    "\n",
    "# a: 1, 4, 3, 2, 1, b:6, 7, 3, 5, 2 c: 3, 5, 4, 3, 4, \n",
    "\n",
    "\n",
    "\n",
    "\n"
   ]
  }
 ],
 "metadata": {
  "kernelspec": {
   "display_name": "Python 3",
   "language": "python",
   "name": "python3"
  },
  "language_info": {
   "codemirror_mode": {
    "name": "ipython",
    "version": 3
   },
   "file_extension": ".py",
   "mimetype": "text/x-python",
   "name": "python",
   "nbconvert_exporter": "python",
   "pygments_lexer": "ipython3",
   "version": "3.9.6"
  }
 },
 "nbformat": 4,
 "nbformat_minor": 2
}
